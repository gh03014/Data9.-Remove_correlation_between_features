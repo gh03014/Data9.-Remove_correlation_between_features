{
 "cells": [
  {
   "cell_type": "code",
   "execution_count": 1,
   "metadata": {},
   "outputs": [],
   "source": [
    "import pandas as pd\n",
    "import os"
   ]
  },
  {
   "cell_type": "code",
   "execution_count": 2,
   "metadata": {},
   "outputs": [],
   "source": [
    "df = pd.read_csv(\"abalone.csv\")"
   ]
  },
  {
   "cell_type": "code",
   "execution_count": 3,
   "metadata": {},
   "outputs": [],
   "source": [
    "# 특징과 라벨 분리\n",
    "X = df.drop(['Age'], axis = 1)\n",
    "Y = df['Age']"
   ]
  },
  {
   "cell_type": "code",
   "execution_count": 4,
   "metadata": {},
   "outputs": [],
   "source": [
    "# 학습 데이터와 평가 데이터 분리\n",
    "from sklearn.model_selection import train_test_split\n",
    "Train_X, Test_X, Train_Y, Test_Y = train_test_split(X, Y)"
   ]
  },
  {
   "cell_type": "code",
   "execution_count": 5,
   "metadata": {},
   "outputs": [
    {
     "data": {
      "text/html": [
       "<div>\n",
       "<style scoped>\n",
       "    .dataframe tbody tr th:only-of-type {\n",
       "        vertical-align: middle;\n",
       "    }\n",
       "\n",
       "    .dataframe tbody tr th {\n",
       "        vertical-align: top;\n",
       "    }\n",
       "\n",
       "    .dataframe thead th {\n",
       "        text-align: right;\n",
       "    }\n",
       "</style>\n",
       "<table border=\"1\" class=\"dataframe\">\n",
       "  <thead>\n",
       "    <tr style=\"text-align: right;\">\n",
       "      <th></th>\n",
       "      <th>Length</th>\n",
       "      <th>Diameter</th>\n",
       "      <th>Height</th>\n",
       "      <th>Wholeweight</th>\n",
       "      <th>Shuckedweight</th>\n",
       "      <th>Visceraweight</th>\n",
       "      <th>Shellweight</th>\n",
       "    </tr>\n",
       "  </thead>\n",
       "  <tbody>\n",
       "    <tr>\n",
       "      <th>Length</th>\n",
       "      <td>1.000000</td>\n",
       "      <td>0.986331</td>\n",
       "      <td>0.809434</td>\n",
       "      <td>0.925405</td>\n",
       "      <td>0.898610</td>\n",
       "      <td>0.903386</td>\n",
       "      <td>0.895786</td>\n",
       "    </tr>\n",
       "    <tr>\n",
       "      <th>Diameter</th>\n",
       "      <td>0.986331</td>\n",
       "      <td>1.000000</td>\n",
       "      <td>0.815719</td>\n",
       "      <td>0.925601</td>\n",
       "      <td>0.893996</td>\n",
       "      <td>0.899829</td>\n",
       "      <td>0.904050</td>\n",
       "    </tr>\n",
       "    <tr>\n",
       "      <th>Height</th>\n",
       "      <td>0.809434</td>\n",
       "      <td>0.815719</td>\n",
       "      <td>1.000000</td>\n",
       "      <td>0.799875</td>\n",
       "      <td>0.755448</td>\n",
       "      <td>0.778875</td>\n",
       "      <td>0.798438</td>\n",
       "    </tr>\n",
       "    <tr>\n",
       "      <th>Wholeweight</th>\n",
       "      <td>0.925405</td>\n",
       "      <td>0.925601</td>\n",
       "      <td>0.799875</td>\n",
       "      <td>1.000000</td>\n",
       "      <td>0.968246</td>\n",
       "      <td>0.966389</td>\n",
       "      <td>0.953806</td>\n",
       "    </tr>\n",
       "    <tr>\n",
       "      <th>Shuckedweight</th>\n",
       "      <td>0.898610</td>\n",
       "      <td>0.893996</td>\n",
       "      <td>0.755448</td>\n",
       "      <td>0.968246</td>\n",
       "      <td>1.000000</td>\n",
       "      <td>0.932727</td>\n",
       "      <td>0.880176</td>\n",
       "    </tr>\n",
       "    <tr>\n",
       "      <th>Visceraweight</th>\n",
       "      <td>0.903386</td>\n",
       "      <td>0.899829</td>\n",
       "      <td>0.778875</td>\n",
       "      <td>0.966389</td>\n",
       "      <td>0.932727</td>\n",
       "      <td>1.000000</td>\n",
       "      <td>0.905409</td>\n",
       "    </tr>\n",
       "    <tr>\n",
       "      <th>Shellweight</th>\n",
       "      <td>0.895786</td>\n",
       "      <td>0.904050</td>\n",
       "      <td>0.798438</td>\n",
       "      <td>0.953806</td>\n",
       "      <td>0.880176</td>\n",
       "      <td>0.905409</td>\n",
       "      <td>1.000000</td>\n",
       "    </tr>\n",
       "  </tbody>\n",
       "</table>\n",
       "</div>"
      ],
      "text/plain": [
       "                 Length  Diameter    Height  Wholeweight  Shuckedweight  \\\n",
       "Length         1.000000  0.986331  0.809434     0.925405       0.898610   \n",
       "Diameter       0.986331  1.000000  0.815719     0.925601       0.893996   \n",
       "Height         0.809434  0.815719  1.000000     0.799875       0.755448   \n",
       "Wholeweight    0.925405  0.925601  0.799875     1.000000       0.968246   \n",
       "Shuckedweight  0.898610  0.893996  0.755448     0.968246       1.000000   \n",
       "Visceraweight  0.903386  0.899829  0.778875     0.966389       0.932727   \n",
       "Shellweight    0.895786  0.904050  0.798438     0.953806       0.880176   \n",
       "\n",
       "               Visceraweight  Shellweight  \n",
       "Length              0.903386     0.895786  \n",
       "Diameter            0.899829     0.904050  \n",
       "Height              0.778875     0.798438  \n",
       "Wholeweight         0.966389     0.953806  \n",
       "Shuckedweight       0.932727     0.880176  \n",
       "Visceraweight       1.000000     0.905409  \n",
       "Shellweight         0.905409     1.000000  "
      ]
     },
     "execution_count": 5,
     "metadata": {},
     "output_type": "execute_result"
    }
   ],
   "source": [
    "Train_X.corr() # 특징 간 상관 행렬 출력 => 얼핏봐도 특징 간 선형 관계가 존재"
   ]
  },
  {
   "cell_type": "code",
   "execution_count": 6,
   "metadata": {},
   "outputs": [],
   "source": [
    "# VIF 기준 특징 선택, VIF 계산\n",
    "from sklearn.linear_model import LinearRegression as LR\n",
    "VIF_dict = dict() # 빈 딕셔너리 생성\n",
    "for col in Train_X.columns:\n",
    "    # 1개의 컬럼을 기준으로 다른 라벨과의 비교로 모델 생성\n",
    "    model = LR().fit(Train_X.drop([col], axis = 1), Train_X[col])\n",
    "    # LinearRegression의 score가 r2 점수임\n",
    "    r2 = model.score(Train_X.drop([col], axis = 1), Train_X[col]) \n",
    "    VIF = 1 / (1 - r2)\n",
    "    VIF_dict[col] = VIF # 딕셔너리에 결과 추가"
   ]
  },
  {
   "cell_type": "code",
   "execution_count": 7,
   "metadata": {},
   "outputs": [
    {
     "data": {
      "text/plain": [
       "{'Length': 39.43849833918085,\n",
       " 'Diameter': 40.492849239834015,\n",
       " 'Height': 3.204948043021875,\n",
       " 'Wholeweight': 97.86250558936253,\n",
       " 'Shuckedweight': 25.697425536549265,\n",
       " 'Visceraweight': 17.0028393648043,\n",
       " 'Shellweight': 19.491294050676053}"
      ]
     },
     "execution_count": 7,
     "metadata": {},
     "output_type": "execute_result"
    }
   ],
   "source": [
    "# Height를 제외하곤 VIF가 모두 높다\n",
    "# 이러한 상황에서는 사실 PCA를 사용하는 것이 좋다.\n",
    "VIF_dict "
   ]
  },
  {
   "cell_type": "code",
   "execution_count": 8,
   "metadata": {},
   "outputs": [],
   "source": [
    "# mean_absolute_error는 실제 값과 예측 값의 차이(Error)를 절대값으로 변환해 평균화 한다\n",
    "# 에러에 절대값을 취하기 때문에 에러의 크기 그대로 반영된다\n",
    "# 예측 결과물의 에러가 10이 나온 것이 5로 나온 것보다 2배가 나쁜 도메인에서 쓰기 적합한 산식이다\n",
    "# 에러에 따른 손실이 선형적으로 올라가거나 이상치가 많을 때 적합하다. \n",
    "\n",
    "from sklearn.neural_network import MLPRegressor as MLP\n",
    "from sklearn.metrics import mean_absolute_error as MAE"
   ]
  },
  {
   "cell_type": "code",
   "execution_count": 9,
   "metadata": {},
   "outputs": [
    {
     "name": "stdout",
     "output_type": "stream",
     "text": [
      "1.6052171190360358\n"
     ]
    }
   ],
   "source": [
    "# 전체 특징을 모두 사용하였을 때\n",
    "model = MLP(random_state = 2313, max_iter = 500)\n",
    "model.fit(Train_X, Train_Y)\n",
    "pred_Y = model.predict(Test_X)\n",
    "score = MAE(Test_Y, pred_Y)\n",
    "print(score)"
   ]
  },
  {
   "cell_type": "code",
   "execution_count": 10,
   "metadata": {
    "scrolled": true
   },
   "outputs": [
    {
     "name": "stdout",
     "output_type": "stream",
     "text": [
      "1.6047893121350008\n"
     ]
    },
    {
     "name": "stderr",
     "output_type": "stream",
     "text": [
      "c:\\users\\jaehwan\\appdata\\local\\programs\\python\\python38\\lib\\site-packages\\sklearn\\neural_network\\_multilayer_perceptron.py:614: ConvergenceWarning: Stochastic Optimizer: Maximum iterations (500) reached and the optimization hasn't converged yet.\n",
      "  warnings.warn(\n"
     ]
    }
   ],
   "source": [
    "# VIF 점수가 30점 미만인 특징만 사용하였을 때 \n",
    "selected_features = [key for key, val in VIF_dict.items() if val < 30] \n",
    "\n",
    "model = MLP(random_state = 2313, max_iter = 500)\n",
    "model.fit(Train_X[selected_features], Train_Y)\n",
    "pred_Y = model.predict(Test_X[selected_features])\n",
    "score = MAE(Test_Y, pred_Y)\n",
    "print(score)\n",
    "# 전체특징을 모두 이용했을 때 보다 성능이 약간 좋아졌다."
   ]
  },
  {
   "cell_type": "code",
   "execution_count": 11,
   "metadata": {},
   "outputs": [
    {
     "name": "stdout",
     "output_type": "stream",
     "text": [
      "(3132, 3)\n"
     ]
    }
   ],
   "source": [
    "# PCA 사용, 차원축소\n",
    "from sklearn.decomposition import PCA\n",
    "# 3개의 중성분으로 데이터를 변환\n",
    "PCA_model = PCA(n_components = 3).fit(Train_X)\n",
    "\n",
    "Train_Z = PCA_model.transform(Train_X)\n",
    "Test_Z = PCA_model.transform(Test_X)\n",
    "\n",
    "print(Train_Z.shape)\n",
    "# 차원의 갯수가 3개로 줄어들었다"
   ]
  },
  {
   "cell_type": "code",
   "execution_count": 12,
   "metadata": {},
   "outputs": [
    {
     "name": "stdout",
     "output_type": "stream",
     "text": [
      "1.5383788443381812\n"
     ]
    }
   ],
   "source": [
    "model = MLP(random_state = 2313, max_iter = 500)\n",
    "model.fit(Train_Z, Train_Y)\n",
    "pred_Y = model.predict(Test_Z)\n",
    "score = MAE(Test_Y, pred_Y)\n",
    "print(score)\n",
    "# 이전보다 성능이 더 좋아졌다."
   ]
  },
  {
   "cell_type": "code",
   "execution_count": null,
   "metadata": {},
   "outputs": [],
   "source": []
  }
 ],
 "metadata": {
  "kernelspec": {
   "display_name": "Python 3",
   "language": "python",
   "name": "python3"
  },
  "language_info": {
   "codemirror_mode": {
    "name": "ipython",
    "version": 3
   },
   "file_extension": ".py",
   "mimetype": "text/x-python",
   "name": "python",
   "nbconvert_exporter": "python",
   "pygments_lexer": "ipython3",
   "version": "3.8.5"
  }
 },
 "nbformat": 4,
 "nbformat_minor": 2
}
